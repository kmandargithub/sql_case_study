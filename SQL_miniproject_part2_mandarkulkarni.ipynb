{
 "cells": [
  {
   "cell_type": "markdown",
   "metadata": {},
   "source": [
    "# SQL Mini Project \n",
    "\n",
    "## Country Club Database: Tier 2 Part 2"
   ]
  },
  {
   "cell_type": "code",
   "execution_count": 1,
   "metadata": {},
   "outputs": [],
   "source": [
    "from sqlalchemy import create_engine\n",
    "import pandas as pd\n",
    "import numpy as np"
   ]
  },
  {
   "cell_type": "markdown",
   "metadata": {},
   "source": [
    "##### Create a database engine & list the tables within this database"
   ]
  },
  {
   "cell_type": "code",
   "execution_count": 2,
   "metadata": {},
   "outputs": [
    {
     "name": "stdout",
     "output_type": "stream",
     "text": [
      "['Bookings', 'Facilities', 'Members']\n"
     ]
    }
   ],
   "source": [
    "engine = create_engine('sqlite:///sqlite_db_pythonsqlite.db')\n",
    "table_names = engine.table_names()\n",
    "print(table_names)"
   ]
  },
  {
   "cell_type": "markdown",
   "metadata": {},
   "source": [
    "##### View each of the tables to ensure, everything looks as expected"
   ]
  },
  {
   "cell_type": "code",
   "execution_count": 3,
   "metadata": {},
   "outputs": [
    {
     "name": "stdout",
     "output_type": "stream",
     "text": [
      "   bookid  facid  memid            starttime  slots\n",
      "0       0      3      1  2012-07-03 11:00:00      2\n",
      "1       1      4      1  2012-07-03 08:00:00      2\n",
      "2       2      6      0  2012-07-03 18:00:00      2\n",
      "3       3      7      1  2012-07-03 19:00:00      2\n",
      "4       4      8      1  2012-07-03 10:00:00      1\n"
     ]
    }
   ],
   "source": [
    "df_bk = pd.read_sql_query('SELECT * FROM Bookings', engine)\n",
    "print(df_bk.head())"
   ]
  },
  {
   "cell_type": "code",
   "execution_count": 4,
   "metadata": {},
   "outputs": [
    {
     "name": "stdout",
     "output_type": "stream",
     "text": [
      "   facid             name  membercost  guestcost  initialoutlay  \\\n",
      "0      0   Tennis Court 1         5.0       25.0          10000   \n",
      "1      1   Tennis Court 2         5.0       25.0           8000   \n",
      "2      2  Badminton Court         0.0       15.5           4000   \n",
      "3      3     Table Tennis         0.0        5.0            320   \n",
      "4      4   Massage Room 1         9.9       80.0           4000   \n",
      "\n",
      "   monthlymaintenance  \n",
      "0                 200  \n",
      "1                 200  \n",
      "2                  50  \n",
      "3                  10  \n",
      "4                3000  \n"
     ]
    }
   ],
   "source": [
    "df_fc = pd.read_sql_query('SELECT * FROM Facilities', engine)\n",
    "print(df_fc.head())"
   ]
  },
  {
   "cell_type": "code",
   "execution_count": 5,
   "metadata": {
    "scrolled": true
   },
   "outputs": [
    {
     "name": "stdout",
     "output_type": "stream",
     "text": [
      "   memid   surname firstname                       address  zipcode  \\\n",
      "0      0     GUEST     GUEST                         GUEST        0   \n",
      "1      1     Smith    Darren    8 Bloomsbury Close, Boston     4321   \n",
      "2      2     Smith     Tracy  8 Bloomsbury Close, New York     4321   \n",
      "3      3    Rownam       Tim        23 Highway Way, Boston    23423   \n",
      "4      4  Joplette    Janice    20 Crossing Road, New York      234   \n",
      "\n",
      "        telephone recommendedby             joindate  \n",
      "0  (000) 000-0000                2012-07-01 00:00:00  \n",
      "1    555-555-5555                2012-07-02 12:02:05  \n",
      "2    555-555-5555                2012-07-02 12:08:23  \n",
      "3  (844) 693-0723                2012-07-03 09:32:15  \n",
      "4  (833) 942-4710             1  2012-07-03 10:25:05  \n"
     ]
    }
   ],
   "source": [
    "df_mb = pd.read_sql_query('SELECT * FROM Members', engine)\n",
    "print(df_mb.head())"
   ]
  },
  {
   "cell_type": "markdown",
   "metadata": {},
   "source": [
    "##### Now that everything looks as expected. Lets get back to the project questions."
   ]
  },
  {
   "cell_type": "markdown",
   "metadata": {},
   "source": [
    "##### First we merge the three tables into a single dataframe which can be used to answer subsequent questions."
   ]
  },
  {
   "cell_type": "code",
   "execution_count": 6,
   "metadata": {},
   "outputs": [
    {
     "name": "stdout",
     "output_type": "stream",
     "text": [
      "Index(['bookid', 'facid', 'memid', 'starttime', 'slots', 'name', 'membercost',\n",
      "       'guestcost', 'initialoutlay', 'monthlymaintenance', 'surname',\n",
      "       'firstname', 'address', 'zipcode', 'telephone', 'recommendedby',\n",
      "       'joindate'],\n",
      "      dtype='object')\n"
     ]
    }
   ],
   "source": [
    "bk_fc_mb = df_bk.merge(df_fc, on='facid', how='inner').merge(df_mb, on='memid', how='inner')\n",
    "print(bk_fc_mb.columns)"
   ]
  },
  {
   "cell_type": "markdown",
   "metadata": {},
   "source": [
    "#### Q10. Produce a list of facilities with a total revenue less than 1000. The output of facility name and total revenue, sorted by revenue. Remember that there's a different cost for guests and members! "
   ]
  },
  {
   "cell_type": "code",
   "execution_count": 7,
   "metadata": {},
   "outputs": [
    {
     "name": "stdout",
     "output_type": "stream",
     "text": [
      "   facid          name  memid            starttime  slots  membercost  \\\n",
      "0      3  Table Tennis      1  2012-07-03 11:00:00      2         0.0   \n",
      "1      3  Table Tennis      1  2012-07-05 19:00:00      2         0.0   \n",
      "2      3  Table Tennis      1  2012-07-06 11:00:00      2         0.0   \n",
      "3      3  Table Tennis      1  2012-07-08 11:30:00      2         0.0   \n",
      "4      3  Table Tennis      1  2012-07-08 19:30:00      2         0.0   \n",
      "\n",
      "   guestcost  \n",
      "0        5.0  \n",
      "1        5.0  \n",
      "2        5.0  \n",
      "3        5.0  \n",
      "4        5.0  \n"
     ]
    }
   ],
   "source": [
    "# Select relevant columns from the merged dataframe\n",
    "pb_10_df = bk_fc_mb.loc[:,['facid', 'name', 'memid', 'starttime', 'slots', 'membercost', 'guestcost']].copy()\n",
    "print(pb_10_df.head())"
   ]
  },
  {
   "cell_type": "code",
   "execution_count": 8,
   "metadata": {},
   "outputs": [
    {
     "name": "stdout",
     "output_type": "stream",
     "text": [
      "   facid          name  memid            starttime  slots  membercost  \\\n",
      "0      3  Table Tennis      1  2012-07-03 11:00:00      2         0.0   \n",
      "1      3  Table Tennis      1  2012-07-05 19:00:00      2         0.0   \n",
      "2      3  Table Tennis      1  2012-07-06 11:00:00      2         0.0   \n",
      "3      3  Table Tennis      1  2012-07-08 11:30:00      2         0.0   \n",
      "4      3  Table Tennis      1  2012-07-08 19:30:00      2         0.0   \n",
      "\n",
      "   guestcost  revenue  \n",
      "0        5.0      0.0  \n",
      "1        5.0      0.0  \n",
      "2        5.0      0.0  \n",
      "3        5.0      0.0  \n",
      "4        5.0      0.0  \n"
     ]
    }
   ],
   "source": [
    "# Add revenue column to the dataframe\n",
    "pb_10_df['revenue'] = np.where(pb_10_df['memid']==0,pb_10_df['slots']*pb_10_df['guestcost'],pb_10_df['slots']*pb_10_df['membercost'])\n",
    "print(pb_10_df.head())"
   ]
  },
  {
   "cell_type": "code",
   "execution_count": 9,
   "metadata": {
    "collapsed": true
   },
   "outputs": [
    {
     "data": {
      "text/html": [
       "<div>\n",
       "<style scoped>\n",
       "    .dataframe tbody tr th:only-of-type {\n",
       "        vertical-align: middle;\n",
       "    }\n",
       "\n",
       "    .dataframe tbody tr th {\n",
       "        vertical-align: top;\n",
       "    }\n",
       "\n",
       "    .dataframe thead th {\n",
       "        text-align: right;\n",
       "    }\n",
       "</style>\n",
       "<table border=\"1\" class=\"dataframe\">\n",
       "  <thead>\n",
       "    <tr style=\"text-align: right;\">\n",
       "      <th></th>\n",
       "      <th>facid</th>\n",
       "      <th>name</th>\n",
       "      <th>memid</th>\n",
       "      <th>starttime</th>\n",
       "      <th>slots</th>\n",
       "      <th>membercost</th>\n",
       "      <th>guestcost</th>\n",
       "      <th>revenue</th>\n",
       "    </tr>\n",
       "  </thead>\n",
       "  <tbody>\n",
       "    <tr>\n",
       "      <th>0</th>\n",
       "      <td>3</td>\n",
       "      <td>Table Tennis</td>\n",
       "      <td>1</td>\n",
       "      <td>2012-07-03 11:00:00</td>\n",
       "      <td>2</td>\n",
       "      <td>0.0</td>\n",
       "      <td>5.0</td>\n",
       "      <td>0.0</td>\n",
       "    </tr>\n",
       "    <tr>\n",
       "      <th>1</th>\n",
       "      <td>3</td>\n",
       "      <td>Table Tennis</td>\n",
       "      <td>1</td>\n",
       "      <td>2012-07-05 19:00:00</td>\n",
       "      <td>2</td>\n",
       "      <td>0.0</td>\n",
       "      <td>5.0</td>\n",
       "      <td>0.0</td>\n",
       "    </tr>\n",
       "    <tr>\n",
       "      <th>2</th>\n",
       "      <td>3</td>\n",
       "      <td>Table Tennis</td>\n",
       "      <td>1</td>\n",
       "      <td>2012-07-06 11:00:00</td>\n",
       "      <td>2</td>\n",
       "      <td>0.0</td>\n",
       "      <td>5.0</td>\n",
       "      <td>0.0</td>\n",
       "    </tr>\n",
       "    <tr>\n",
       "      <th>3</th>\n",
       "      <td>3</td>\n",
       "      <td>Table Tennis</td>\n",
       "      <td>1</td>\n",
       "      <td>2012-07-08 11:30:00</td>\n",
       "      <td>2</td>\n",
       "      <td>0.0</td>\n",
       "      <td>5.0</td>\n",
       "      <td>0.0</td>\n",
       "    </tr>\n",
       "    <tr>\n",
       "      <th>4</th>\n",
       "      <td>3</td>\n",
       "      <td>Table Tennis</td>\n",
       "      <td>1</td>\n",
       "      <td>2012-07-08 19:30:00</td>\n",
       "      <td>2</td>\n",
       "      <td>0.0</td>\n",
       "      <td>5.0</td>\n",
       "      <td>0.0</td>\n",
       "    </tr>\n",
       "    <tr>\n",
       "      <th>...</th>\n",
       "      <td>...</td>\n",
       "      <td>...</td>\n",
       "      <td>...</td>\n",
       "      <td>...</td>\n",
       "      <td>...</td>\n",
       "      <td>...</td>\n",
       "      <td>...</td>\n",
       "      <td>...</td>\n",
       "    </tr>\n",
       "    <tr>\n",
       "      <th>4038</th>\n",
       "      <td>7</td>\n",
       "      <td>Snooker Table</td>\n",
       "      <td>27</td>\n",
       "      <td>2012-09-30 08:30:00</td>\n",
       "      <td>2</td>\n",
       "      <td>0.0</td>\n",
       "      <td>5.0</td>\n",
       "      <td>0.0</td>\n",
       "    </tr>\n",
       "    <tr>\n",
       "      <th>4039</th>\n",
       "      <td>8</td>\n",
       "      <td>Pool Table</td>\n",
       "      <td>27</td>\n",
       "      <td>2012-09-16 13:30:00</td>\n",
       "      <td>1</td>\n",
       "      <td>0.0</td>\n",
       "      <td>5.0</td>\n",
       "      <td>0.0</td>\n",
       "    </tr>\n",
       "    <tr>\n",
       "      <th>4040</th>\n",
       "      <td>8</td>\n",
       "      <td>Pool Table</td>\n",
       "      <td>27</td>\n",
       "      <td>2012-09-16 15:30:00</td>\n",
       "      <td>1</td>\n",
       "      <td>0.0</td>\n",
       "      <td>5.0</td>\n",
       "      <td>0.0</td>\n",
       "    </tr>\n",
       "    <tr>\n",
       "      <th>4041</th>\n",
       "      <td>8</td>\n",
       "      <td>Pool Table</td>\n",
       "      <td>27</td>\n",
       "      <td>2012-09-27 18:00:00</td>\n",
       "      <td>1</td>\n",
       "      <td>0.0</td>\n",
       "      <td>5.0</td>\n",
       "      <td>0.0</td>\n",
       "    </tr>\n",
       "    <tr>\n",
       "      <th>4042</th>\n",
       "      <td>1</td>\n",
       "      <td>Tennis Court 2</td>\n",
       "      <td>27</td>\n",
       "      <td>2012-09-21 18:00:00</td>\n",
       "      <td>3</td>\n",
       "      <td>5.0</td>\n",
       "      <td>25.0</td>\n",
       "      <td>15.0</td>\n",
       "    </tr>\n",
       "  </tbody>\n",
       "</table>\n",
       "<p>3160 rows × 8 columns</p>\n",
       "</div>"
      ],
      "text/plain": [
       "      facid            name  memid            starttime  slots  membercost  \\\n",
       "0         3    Table Tennis      1  2012-07-03 11:00:00      2         0.0   \n",
       "1         3    Table Tennis      1  2012-07-05 19:00:00      2         0.0   \n",
       "2         3    Table Tennis      1  2012-07-06 11:00:00      2         0.0   \n",
       "3         3    Table Tennis      1  2012-07-08 11:30:00      2         0.0   \n",
       "4         3    Table Tennis      1  2012-07-08 19:30:00      2         0.0   \n",
       "...     ...             ...    ...                  ...    ...         ...   \n",
       "4038      7   Snooker Table     27  2012-09-30 08:30:00      2         0.0   \n",
       "4039      8      Pool Table     27  2012-09-16 13:30:00      1         0.0   \n",
       "4040      8      Pool Table     27  2012-09-16 15:30:00      1         0.0   \n",
       "4041      8      Pool Table     27  2012-09-27 18:00:00      1         0.0   \n",
       "4042      1  Tennis Court 2     27  2012-09-21 18:00:00      3         5.0   \n",
       "\n",
       "      guestcost  revenue  \n",
       "0           5.0      0.0  \n",
       "1           5.0      0.0  \n",
       "2           5.0      0.0  \n",
       "3           5.0      0.0  \n",
       "4           5.0      0.0  \n",
       "...         ...      ...  \n",
       "4038        5.0      0.0  \n",
       "4039        5.0      0.0  \n",
       "4040        5.0      0.0  \n",
       "4041        5.0      0.0  \n",
       "4042       25.0     15.0  \n",
       "\n",
       "[3160 rows x 8 columns]"
      ]
     },
     "execution_count": 9,
     "metadata": {},
     "output_type": "execute_result"
    }
   ],
   "source": [
    "# Verify revenue is as expected for members\n",
    "pb_10_df[pb_10_df['memid']>0]"
   ]
  },
  {
   "cell_type": "code",
   "execution_count": 10,
   "metadata": {
    "collapsed": true
   },
   "outputs": [
    {
     "data": {
      "text/html": [
       "<div>\n",
       "<style scoped>\n",
       "    .dataframe tbody tr th:only-of-type {\n",
       "        vertical-align: middle;\n",
       "    }\n",
       "\n",
       "    .dataframe tbody tr th {\n",
       "        vertical-align: top;\n",
       "    }\n",
       "\n",
       "    .dataframe thead th {\n",
       "        text-align: right;\n",
       "    }\n",
       "</style>\n",
       "<table border=\"1\" class=\"dataframe\">\n",
       "  <thead>\n",
       "    <tr style=\"text-align: right;\">\n",
       "      <th></th>\n",
       "      <th>facid</th>\n",
       "      <th>name</th>\n",
       "      <th>memid</th>\n",
       "      <th>starttime</th>\n",
       "      <th>slots</th>\n",
       "      <th>membercost</th>\n",
       "      <th>guestcost</th>\n",
       "      <th>revenue</th>\n",
       "    </tr>\n",
       "  </thead>\n",
       "  <tbody>\n",
       "    <tr>\n",
       "      <th>879</th>\n",
       "      <td>3</td>\n",
       "      <td>Table Tennis</td>\n",
       "      <td>0</td>\n",
       "      <td>2012-07-26 09:00:00</td>\n",
       "      <td>2</td>\n",
       "      <td>0.0</td>\n",
       "      <td>5.0</td>\n",
       "      <td>10.0</td>\n",
       "    </tr>\n",
       "    <tr>\n",
       "      <th>880</th>\n",
       "      <td>3</td>\n",
       "      <td>Table Tennis</td>\n",
       "      <td>0</td>\n",
       "      <td>2012-07-26 13:30:00</td>\n",
       "      <td>2</td>\n",
       "      <td>0.0</td>\n",
       "      <td>5.0</td>\n",
       "      <td>10.0</td>\n",
       "    </tr>\n",
       "    <tr>\n",
       "      <th>881</th>\n",
       "      <td>3</td>\n",
       "      <td>Table Tennis</td>\n",
       "      <td>0</td>\n",
       "      <td>2012-07-27 10:30:00</td>\n",
       "      <td>2</td>\n",
       "      <td>0.0</td>\n",
       "      <td>5.0</td>\n",
       "      <td>10.0</td>\n",
       "    </tr>\n",
       "    <tr>\n",
       "      <th>882</th>\n",
       "      <td>3</td>\n",
       "      <td>Table Tennis</td>\n",
       "      <td>0</td>\n",
       "      <td>2012-08-08 12:00:00</td>\n",
       "      <td>2</td>\n",
       "      <td>0.0</td>\n",
       "      <td>5.0</td>\n",
       "      <td>10.0</td>\n",
       "    </tr>\n",
       "    <tr>\n",
       "      <th>883</th>\n",
       "      <td>3</td>\n",
       "      <td>Table Tennis</td>\n",
       "      <td>0</td>\n",
       "      <td>2012-08-25 12:00:00</td>\n",
       "      <td>2</td>\n",
       "      <td>0.0</td>\n",
       "      <td>5.0</td>\n",
       "      <td>10.0</td>\n",
       "    </tr>\n",
       "    <tr>\n",
       "      <th>...</th>\n",
       "      <td>...</td>\n",
       "      <td>...</td>\n",
       "      <td>...</td>\n",
       "      <td>...</td>\n",
       "      <td>...</td>\n",
       "      <td>...</td>\n",
       "      <td>...</td>\n",
       "      <td>...</td>\n",
       "    </tr>\n",
       "    <tr>\n",
       "      <th>1757</th>\n",
       "      <td>5</td>\n",
       "      <td>Massage Room 2</td>\n",
       "      <td>0</td>\n",
       "      <td>2012-09-28 13:00:00</td>\n",
       "      <td>2</td>\n",
       "      <td>9.9</td>\n",
       "      <td>80.0</td>\n",
       "      <td>160.0</td>\n",
       "    </tr>\n",
       "    <tr>\n",
       "      <th>1758</th>\n",
       "      <td>5</td>\n",
       "      <td>Massage Room 2</td>\n",
       "      <td>0</td>\n",
       "      <td>2012-09-28 17:00:00</td>\n",
       "      <td>4</td>\n",
       "      <td>9.9</td>\n",
       "      <td>80.0</td>\n",
       "      <td>320.0</td>\n",
       "    </tr>\n",
       "    <tr>\n",
       "      <th>1759</th>\n",
       "      <td>5</td>\n",
       "      <td>Massage Room 2</td>\n",
       "      <td>0</td>\n",
       "      <td>2012-09-29 12:30:00</td>\n",
       "      <td>2</td>\n",
       "      <td>9.9</td>\n",
       "      <td>80.0</td>\n",
       "      <td>160.0</td>\n",
       "    </tr>\n",
       "    <tr>\n",
       "      <th>1760</th>\n",
       "      <td>5</td>\n",
       "      <td>Massage Room 2</td>\n",
       "      <td>0</td>\n",
       "      <td>2012-09-30 11:30:00</td>\n",
       "      <td>2</td>\n",
       "      <td>9.9</td>\n",
       "      <td>80.0</td>\n",
       "      <td>160.0</td>\n",
       "    </tr>\n",
       "    <tr>\n",
       "      <th>1761</th>\n",
       "      <td>5</td>\n",
       "      <td>Massage Room 2</td>\n",
       "      <td>0</td>\n",
       "      <td>2012-09-30 19:30:00</td>\n",
       "      <td>2</td>\n",
       "      <td>9.9</td>\n",
       "      <td>80.0</td>\n",
       "      <td>160.0</td>\n",
       "    </tr>\n",
       "  </tbody>\n",
       "</table>\n",
       "<p>883 rows × 8 columns</p>\n",
       "</div>"
      ],
      "text/plain": [
       "      facid            name  memid            starttime  slots  membercost  \\\n",
       "879       3    Table Tennis      0  2012-07-26 09:00:00      2         0.0   \n",
       "880       3    Table Tennis      0  2012-07-26 13:30:00      2         0.0   \n",
       "881       3    Table Tennis      0  2012-07-27 10:30:00      2         0.0   \n",
       "882       3    Table Tennis      0  2012-08-08 12:00:00      2         0.0   \n",
       "883       3    Table Tennis      0  2012-08-25 12:00:00      2         0.0   \n",
       "...     ...             ...    ...                  ...    ...         ...   \n",
       "1757      5  Massage Room 2      0  2012-09-28 13:00:00      2         9.9   \n",
       "1758      5  Massage Room 2      0  2012-09-28 17:00:00      4         9.9   \n",
       "1759      5  Massage Room 2      0  2012-09-29 12:30:00      2         9.9   \n",
       "1760      5  Massage Room 2      0  2012-09-30 11:30:00      2         9.9   \n",
       "1761      5  Massage Room 2      0  2012-09-30 19:30:00      2         9.9   \n",
       "\n",
       "      guestcost  revenue  \n",
       "879         5.0     10.0  \n",
       "880         5.0     10.0  \n",
       "881         5.0     10.0  \n",
       "882         5.0     10.0  \n",
       "883         5.0     10.0  \n",
       "...         ...      ...  \n",
       "1757       80.0    160.0  \n",
       "1758       80.0    320.0  \n",
       "1759       80.0    160.0  \n",
       "1760       80.0    160.0  \n",
       "1761       80.0    160.0  \n",
       "\n",
       "[883 rows x 8 columns]"
      ]
     },
     "execution_count": 10,
     "metadata": {},
     "output_type": "execute_result"
    }
   ],
   "source": [
    "# Verify revenue is as expected for guests\n",
    "pb_10_df[pb_10_df['memid']==0]"
   ]
  },
  {
   "cell_type": "code",
   "execution_count": 11,
   "metadata": {},
   "outputs": [],
   "source": [
    "# Finally compute revenue for each facility\n",
    "rev_group = pb_10_df.groupby('name')['revenue'].sum()"
   ]
  },
  {
   "cell_type": "code",
   "execution_count": 12,
   "metadata": {},
   "outputs": [
    {
     "name": "stdout",
     "output_type": "stream",
     "text": [
      "name\n",
      "Table Tennis     180.0\n",
      "Snooker Table    240.0\n",
      "Pool Table       270.0\n",
      "Name: revenue, dtype: float64\n"
     ]
    }
   ],
   "source": [
    "# Print groups for which revenue is less than $1000\n",
    "print(rev_group[rev_group < 1000].sort_values())"
   ]
  },
  {
   "cell_type": "markdown",
   "metadata": {},
   "source": [
    "#### Q11. Produce a report of members and who recommended them in alphabetic surname, firstname order"
   ]
  },
  {
   "cell_type": "code",
   "execution_count": 13,
   "metadata": {},
   "outputs": [
    {
     "name": "stdout",
     "output_type": "stream",
     "text": [
      "<class 'pandas.core.frame.DataFrame'>\n",
      "RangeIndex: 31 entries, 0 to 30\n",
      "Data columns (total 8 columns):\n",
      " #   Column         Non-Null Count  Dtype \n",
      "---  ------         --------------  ----- \n",
      " 0   memid          31 non-null     int64 \n",
      " 1   surname        31 non-null     object\n",
      " 2   firstname      31 non-null     object\n",
      " 3   address        31 non-null     object\n",
      " 4   zipcode        31 non-null     int64 \n",
      " 5   telephone      31 non-null     object\n",
      " 6   recommendedby  31 non-null     object\n",
      " 7   joindate       31 non-null     object\n",
      "dtypes: int64(2), object(6)\n",
      "memory usage: 2.1+ KB\n"
     ]
    }
   ],
   "source": [
    "# In order to answer this, we perform a self-join of the members dataframe with itself.\n",
    "df_mb.info()"
   ]
  },
  {
   "cell_type": "code",
   "execution_count": 14,
   "metadata": {},
   "outputs": [
    {
     "name": "stdout",
     "output_type": "stream",
     "text": [
      "<class 'pandas.core.frame.DataFrame'>\n",
      "RangeIndex: 31 entries, 0 to 30\n",
      "Data columns (total 8 columns):\n",
      " #   Column         Non-Null Count  Dtype \n",
      "---  ------         --------------  ----- \n",
      " 0   memid          31 non-null     int32 \n",
      " 1   surname        31 non-null     object\n",
      " 2   firstname      31 non-null     object\n",
      " 3   address        31 non-null     object\n",
      " 4   zipcode        31 non-null     int64 \n",
      " 5   telephone      31 non-null     object\n",
      " 6   recommendedby  31 non-null     int32 \n",
      " 7   joindate       31 non-null     object\n",
      "dtypes: int32(2), int64(1), object(5)\n",
      "memory usage: 1.8+ KB\n"
     ]
    }
   ],
   "source": [
    "# However we observe that 'memid' and 'recommendedby' the two ids needed for self-join do not have the same type.\n",
    "# First we make these two columns have the same type\n",
    "df_mb['recommendedby'] = pd.to_numeric(df_mb['recommendedby'], errors='coerce')\n",
    "df_mb['recommendedby'].fillna(9999999, inplace=True)\n",
    "df_mb['recommendedby']= df_mb['recommendedby'].astype(int)\n",
    "df_mb['memid'] = df_mb['memid'].astype(int)\n",
    "df_mb.info()"
   ]
  },
  {
   "cell_type": "code",
   "execution_count": 15,
   "metadata": {},
   "outputs": [
    {
     "data": {
      "text/html": [
       "<div>\n",
       "<style scoped>\n",
       "    .dataframe tbody tr th:only-of-type {\n",
       "        vertical-align: middle;\n",
       "    }\n",
       "\n",
       "    .dataframe tbody tr th {\n",
       "        vertical-align: top;\n",
       "    }\n",
       "\n",
       "    .dataframe thead th {\n",
       "        text-align: right;\n",
       "    }\n",
       "</style>\n",
       "<table border=\"1\" class=\"dataframe\">\n",
       "  <thead>\n",
       "    <tr style=\"text-align: right;\">\n",
       "      <th></th>\n",
       "      <th>member_name</th>\n",
       "      <th>recommender_name</th>\n",
       "    </tr>\n",
       "  </thead>\n",
       "  <tbody>\n",
       "    <tr>\n",
       "      <th>10</th>\n",
       "      <td>Bader Florence</td>\n",
       "      <td>Stibbons Ponder</td>\n",
       "    </tr>\n",
       "    <tr>\n",
       "      <th>9</th>\n",
       "      <td>Baker Anne</td>\n",
       "      <td>Stibbons Ponder</td>\n",
       "    </tr>\n",
       "    <tr>\n",
       "      <th>11</th>\n",
       "      <td>Baker Timothy</td>\n",
       "      <td>Farrell Jemima</td>\n",
       "    </tr>\n",
       "    <tr>\n",
       "      <th>7</th>\n",
       "      <td>Boothe Tim</td>\n",
       "      <td>Rownam Tim</td>\n",
       "    </tr>\n",
       "    <tr>\n",
       "      <th>1</th>\n",
       "      <td>Butters Gerald</td>\n",
       "      <td>Smith Darren</td>\n",
       "    </tr>\n",
       "    <tr>\n",
       "      <th>14</th>\n",
       "      <td>Coplin Joan</td>\n",
       "      <td>Baker Timothy</td>\n",
       "    </tr>\n",
       "    <tr>\n",
       "      <th>20</th>\n",
       "      <td>Crumpet Erica</td>\n",
       "      <td>Smith Tracy</td>\n",
       "    </tr>\n",
       "    <tr>\n",
       "      <th>5</th>\n",
       "      <td>Dare Nancy</td>\n",
       "      <td>Joplette Janice</td>\n",
       "    </tr>\n",
       "    <tr>\n",
       "      <th>13</th>\n",
       "      <td>Genting Matthew</td>\n",
       "      <td>Butters Gerald</td>\n",
       "    </tr>\n",
       "    <tr>\n",
       "      <th>21</th>\n",
       "      <td>Hunt John</td>\n",
       "      <td>Purview Millicent</td>\n",
       "    </tr>\n",
       "    <tr>\n",
       "      <th>6</th>\n",
       "      <td>Jones David</td>\n",
       "      <td>Joplette Janice</td>\n",
       "    </tr>\n",
       "    <tr>\n",
       "      <th>16</th>\n",
       "      <td>Jones Douglas</td>\n",
       "      <td>Jones David</td>\n",
       "    </tr>\n",
       "    <tr>\n",
       "      <th>0</th>\n",
       "      <td>Joplette Janice</td>\n",
       "      <td>Smith Darren</td>\n",
       "    </tr>\n",
       "    <tr>\n",
       "      <th>4</th>\n",
       "      <td>Mackenzie Anna</td>\n",
       "      <td>Smith Darren</td>\n",
       "    </tr>\n",
       "    <tr>\n",
       "      <th>2</th>\n",
       "      <td>Owen Charles</td>\n",
       "      <td>Smith Darren</td>\n",
       "    </tr>\n",
       "    <tr>\n",
       "      <th>12</th>\n",
       "      <td>Pinker David</td>\n",
       "      <td>Farrell Jemima</td>\n",
       "    </tr>\n",
       "    <tr>\n",
       "      <th>19</th>\n",
       "      <td>Purview Millicent</td>\n",
       "      <td>Smith Tracy</td>\n",
       "    </tr>\n",
       "    <tr>\n",
       "      <th>17</th>\n",
       "      <td>Rumney Henrietta</td>\n",
       "      <td>Genting Matthew</td>\n",
       "    </tr>\n",
       "    <tr>\n",
       "      <th>15</th>\n",
       "      <td>Sarwin Ramnaresh</td>\n",
       "      <td>Bader Florence</td>\n",
       "    </tr>\n",
       "    <tr>\n",
       "      <th>3</th>\n",
       "      <td>Smith Jack</td>\n",
       "      <td>Smith Darren</td>\n",
       "    </tr>\n",
       "    <tr>\n",
       "      <th>8</th>\n",
       "      <td>Stibbons Ponder</td>\n",
       "      <td>Tracy Burton</td>\n",
       "    </tr>\n",
       "    <tr>\n",
       "      <th>18</th>\n",
       "      <td>Worthington-Smyth Henry</td>\n",
       "      <td>Smith Tracy</td>\n",
       "    </tr>\n",
       "  </tbody>\n",
       "</table>\n",
       "</div>"
      ],
      "text/plain": [
       "                member_name   recommender_name\n",
       "10           Bader Florence    Stibbons Ponder\n",
       "9                Baker Anne    Stibbons Ponder\n",
       "11            Baker Timothy     Farrell Jemima\n",
       "7                Boothe Tim         Rownam Tim\n",
       "1            Butters Gerald       Smith Darren\n",
       "14              Coplin Joan      Baker Timothy\n",
       "20            Crumpet Erica        Smith Tracy\n",
       "5                Dare Nancy    Joplette Janice\n",
       "13          Genting Matthew     Butters Gerald\n",
       "21                Hunt John  Purview Millicent\n",
       "6               Jones David    Joplette Janice\n",
       "16            Jones Douglas        Jones David\n",
       "0           Joplette Janice       Smith Darren\n",
       "4            Mackenzie Anna       Smith Darren\n",
       "2              Owen Charles       Smith Darren\n",
       "12             Pinker David     Farrell Jemima\n",
       "19        Purview Millicent        Smith Tracy\n",
       "17         Rumney Henrietta    Genting Matthew\n",
       "15         Sarwin Ramnaresh     Bader Florence\n",
       "3                Smith Jack       Smith Darren\n",
       "8           Stibbons Ponder       Tracy Burton\n",
       "18  Worthington-Smyth Henry        Smith Tracy"
      ]
     },
     "execution_count": 15,
     "metadata": {},
     "output_type": "execute_result"
    }
   ],
   "source": [
    "# Now that the two columns have same type, we self-join as follows:\n",
    "pb_11_ini_df = df_mb.merge(df_mb, left_on='recommendedby', right_on='memid', suffixes=('_org','_rec'))\n",
    "\n",
    "# Final answer is expected in 'lastname firstname' format for both members and recommenders\n",
    "pb_11_ini_df['member_name'] = pb_11_ini_df['surname_org'] + ' ' + pb_11_ini_df['firstname_org']\n",
    "pb_11_ini_df['recommender_name'] = pb_11_ini_df['surname_rec'] + ' ' + pb_11_ini_df['firstname_rec']\n",
    "\n",
    "pb_11_df = pb_11_ini_df.loc[:,['member_name','recommender_name']].copy()\n",
    "pb_11_df.sort_values('member_name')"
   ]
  },
  {
   "cell_type": "markdown",
   "metadata": {},
   "source": [
    "#### Q12. Find the facilities with their usage by member, but not guests "
   ]
  },
  {
   "cell_type": "code",
   "execution_count": 16,
   "metadata": {},
   "outputs": [
    {
     "data": {
      "text/html": [
       "<div>\n",
       "<style scoped>\n",
       "    .dataframe tbody tr th:only-of-type {\n",
       "        vertical-align: middle;\n",
       "    }\n",
       "\n",
       "    .dataframe tbody tr th {\n",
       "        vertical-align: top;\n",
       "    }\n",
       "\n",
       "    .dataframe thead th {\n",
       "        text-align: right;\n",
       "    }\n",
       "</style>\n",
       "<table border=\"1\" class=\"dataframe\">\n",
       "  <thead>\n",
       "    <tr style=\"text-align: right;\">\n",
       "      <th></th>\n",
       "      <th>facid</th>\n",
       "      <th>name</th>\n",
       "      <th>memid</th>\n",
       "      <th>slots</th>\n",
       "    </tr>\n",
       "  </thead>\n",
       "  <tbody>\n",
       "    <tr>\n",
       "      <th>0</th>\n",
       "      <td>3</td>\n",
       "      <td>Table Tennis</td>\n",
       "      <td>1</td>\n",
       "      <td>2</td>\n",
       "    </tr>\n",
       "    <tr>\n",
       "      <th>1</th>\n",
       "      <td>3</td>\n",
       "      <td>Table Tennis</td>\n",
       "      <td>1</td>\n",
       "      <td>2</td>\n",
       "    </tr>\n",
       "    <tr>\n",
       "      <th>2</th>\n",
       "      <td>3</td>\n",
       "      <td>Table Tennis</td>\n",
       "      <td>1</td>\n",
       "      <td>2</td>\n",
       "    </tr>\n",
       "    <tr>\n",
       "      <th>3</th>\n",
       "      <td>3</td>\n",
       "      <td>Table Tennis</td>\n",
       "      <td>1</td>\n",
       "      <td>2</td>\n",
       "    </tr>\n",
       "    <tr>\n",
       "      <th>4</th>\n",
       "      <td>3</td>\n",
       "      <td>Table Tennis</td>\n",
       "      <td>1</td>\n",
       "      <td>2</td>\n",
       "    </tr>\n",
       "  </tbody>\n",
       "</table>\n",
       "</div>"
      ],
      "text/plain": [
       "   facid          name  memid  slots\n",
       "0      3  Table Tennis      1      2\n",
       "1      3  Table Tennis      1      2\n",
       "2      3  Table Tennis      1      2\n",
       "3      3  Table Tennis      1      2\n",
       "4      3  Table Tennis      1      2"
      ]
     },
     "execution_count": 16,
     "metadata": {},
     "output_type": "execute_result"
    }
   ],
   "source": [
    "# Guests have member id 0. Members have id > 0\n",
    "pb_12_ini_df = bk_fc_mb[bk_fc_mb['memid']>0].loc[:,['facid', 'name', 'memid', 'slots']]\n",
    "\n",
    "pb_12_ini_df.head()"
   ]
  },
  {
   "cell_type": "code",
   "execution_count": 17,
   "metadata": {},
   "outputs": [
    {
     "data": {
      "text/plain": [
       "facid  name           \n",
       "5      Massage Room 2      1.125000\n",
       "6      Squash Court        8.708333\n",
       "3      Table Tennis       16.541667\n",
       "8      Pool Table         17.833333\n",
       "7      Snooker Table      17.916667\n",
       "1      Tennis Court 2     18.375000\n",
       "4      Massage Room 1     18.416667\n",
       "0      Tennis Court 1     19.937500\n",
       "2      Badminton Court    22.625000\n",
       "Name: slots, dtype: float64"
      ]
     },
     "execution_count": 17,
     "metadata": {},
     "output_type": "execute_result"
    }
   ],
   "source": [
    "# Calculate total usage of the facility by members in days\n",
    "pb_12_interm = pb_12_ini_df.groupby(['facid','name'])['slots'].sum()/48.0\n",
    "# Sort in ascending order of usage\n",
    "pb_12_df = pb_12_interm.sort_values()\n",
    "pb_12_df"
   ]
  },
  {
   "cell_type": "markdown",
   "metadata": {},
   "source": [
    "#### Q13. Find the facilities usage by month, but not guests"
   ]
  },
  {
   "cell_type": "code",
   "execution_count": 18,
   "metadata": {},
   "outputs": [
    {
     "name": "stdout",
     "output_type": "stream",
     "text": [
      "<class 'pandas.core.frame.DataFrame'>\n",
      "Int64Index: 3160 entries, 0 to 4042\n",
      "Data columns (total 5 columns):\n",
      " #   Column     Non-Null Count  Dtype \n",
      "---  ------     --------------  ----- \n",
      " 0   facid      3160 non-null   int64 \n",
      " 1   name       3160 non-null   object\n",
      " 2   memid      3160 non-null   int64 \n",
      " 3   starttime  3160 non-null   object\n",
      " 4   slots      3160 non-null   int64 \n",
      "dtypes: int64(3), object(2)\n",
      "memory usage: 148.1+ KB\n"
     ]
    }
   ],
   "source": [
    "# Guests have member id 0. Members have id > 0\n",
    "pb_13_ini_df = bk_fc_mb[bk_fc_mb['memid']>0].loc[:,['facid', 'name', 'memid', 'starttime', 'slots']]\n",
    "pb_13_ini_df.info()"
   ]
  },
  {
   "cell_type": "code",
   "execution_count": 19,
   "metadata": {},
   "outputs": [
    {
     "name": "stdout",
     "output_type": "stream",
     "text": [
      "<class 'pandas.core.frame.DataFrame'>\n",
      "Int64Index: 3160 entries, 0 to 4042\n",
      "Data columns (total 6 columns):\n",
      " #   Column     Non-Null Count  Dtype \n",
      "---  ------     --------------  ----- \n",
      " 0   facid      3160 non-null   int64 \n",
      " 1   name       3160 non-null   object\n",
      " 2   memid      3160 non-null   int64 \n",
      " 3   starttime  3160 non-null   object\n",
      " 4   slots      3160 non-null   int64 \n",
      " 5   month      3160 non-null   int64 \n",
      "dtypes: int64(4), object(2)\n",
      "memory usage: 172.8+ KB\n"
     ]
    }
   ],
   "source": [
    "# In order to compute facility usage by month, we need a months column that can be generated from the starttime column\n",
    "pb_13_ini_df['month'] = pd.DatetimeIndex(pb_13_ini_df['starttime']).month\n",
    "pb_13_ini_df.info()"
   ]
  },
  {
   "cell_type": "code",
   "execution_count": 20,
   "metadata": {},
   "outputs": [
    {
     "data": {
      "text/plain": [
       "facid  name             month\n",
       "0      Tennis Court 1   7        201\n",
       "                        8        339\n",
       "                        9        417\n",
       "1      Tennis Court 2   7        123\n",
       "                        8        345\n",
       "                        9        414\n",
       "2      Badminton Court  7        165\n",
       "                        8        414\n",
       "                        9        507\n",
       "3      Table Tennis     7         98\n",
       "                        8        296\n",
       "                        9        400\n",
       "4      Massage Room 1   7        166\n",
       "                        8        316\n",
       "                        9        402\n",
       "5      Massage Room 2   7          8\n",
       "                        8         18\n",
       "                        9         28\n",
       "6      Squash Court     7         50\n",
       "                        8        184\n",
       "                        9        184\n",
       "7      Snooker Table    7        140\n",
       "                        8        316\n",
       "                        9        404\n",
       "8      Pool Table       7        110\n",
       "                        8        303\n",
       "                        9        443\n",
       "Name: slots, dtype: int64"
      ]
     },
     "execution_count": 20,
     "metadata": {},
     "output_type": "execute_result"
    }
   ],
   "source": [
    "# Calculate total monthly usage of the facility by members in number of slots\n",
    "pb_13_interm = pb_13_ini_df.groupby(['facid','name', 'month'])['slots'].sum()\n",
    "# Sort in ascending order of facility index\n",
    "pb_13_df = pb_13_interm.sort_index()\n",
    "pb_13_df"
   ]
  }
 ],
 "metadata": {
  "kernelspec": {
   "display_name": "Python 3",
   "language": "python",
   "name": "python3"
  },
  "language_info": {
   "codemirror_mode": {
    "name": "ipython",
    "version": 3
   },
   "file_extension": ".py",
   "mimetype": "text/x-python",
   "name": "python",
   "nbconvert_exporter": "python",
   "pygments_lexer": "ipython3",
   "version": "3.7.6"
  }
 },
 "nbformat": 4,
 "nbformat_minor": 4
}
