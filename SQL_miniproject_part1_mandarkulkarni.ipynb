{
 "cells": [
  {
   "cell_type": "markdown",
   "metadata": {},
   "source": [
    "# SQL Mini Project \n",
    "\n",
    "## Country Club Database: Tier 2 Part 1"
   ]
  },
  {
   "cell_type": "markdown",
   "metadata": {},
   "source": [
    "#### Q1. Some of the facilities charge a fee to members, but some do not. Write a SQL query to produce a list of the names of the facilities that do. \n",
    "\n",
    "<code>SELECT * \n",
    "FROM Facilities \n",
    "WHERE membercost > 0\n",
    "</code>"
   ]
  },
  {
   "cell_type": "markdown",
   "metadata": {},
   "source": [
    "#### Q2. How many facilities do not charge a fee to members? \n",
    "\n",
    "<code>SELECT COUNT(*) \n",
    "FROM Facilities \n",
    "WHERE membercost=0\n",
    "</code>"
   ]
  },
  {
   "cell_type": "markdown",
   "metadata": {},
   "source": [
    "#### Q3. Write a SQL query to show a list of facilities that charge a fee to members, where the fee is less than 20% of the facility's monthly maintenance cost. Return the facid, facility name, member cost, and monthly maintenance of the facilities in question.\n",
    "\n",
    "<code>SELECT facid, name, membercost, monthlymaintenance\n",
    "FROM Facilities\n",
    "WHERE membercost > 0 AND membercost < 0.2 * monthlymaintenance\n",
    "</code>"
   ]
  },
  {
   "cell_type": "markdown",
   "metadata": {},
   "source": [
    "#### Q4. Write an SQL query to retrieve the details of facilities with ID 1 and 5. Try writing the query without using the OR operator.\n",
    "\n",
    "<code>SELECT *\n",
    "FROM Facilities\n",
    "WHERE facid IN (1,5)\n",
    "</code>"
   ]
  },
  {
   "cell_type": "markdown",
   "metadata": {},
   "source": [
    "##### Q5. Produce a list of facilities, with each labelled as 'cheap' or 'expensive', depending on if their monthly maintenance cost is more than \\$100. Return the name and monthly maintenance of the facilities in question. \n",
    "\n",
    "<code>SELECT name, monthlymaintenance,\n",
    "        CASE WHEN monthlymaintenance > 100 THEN 'expensive'\n",
    "        ELSE 'cheap' END AS facility_type\n",
    "FROM `Facilities` \n",
    "</code>"
   ]
  },
  {
   "cell_type": "markdown",
   "metadata": {},
   "source": [
    "##### Q6. You'd like to get the first and last name of the last member(s) who signed up. Try not to use the LIMIT clause for your solution.\n",
    "\n",
    "<code>SELECT firstname, surname\n",
    "FROM Members\n",
    "WHERE joindate = (SELECT MAX(joindate) FROM Members) \n",
    "</code>"
   ]
  },
  {
   "cell_type": "markdown",
   "metadata": {},
   "source": [
    "#### Q7. Produce a list of all members who have used a tennis court. Include in your output the name of the court, and the name of the member formatted as a single column. Ensure no duplicate data, and order by the member name\n",
    "\n",
    "<code>SELECT DISTINCT fac.name, CONCAT(mem.firstname,' ',mem.surname) as member_name FROM Bookings \n",
    "INNER JOIN Facilities as fac USING (facid)\n",
    "INNER JOIN Members as mem USING (memid)\n",
    "WHERE facid < 2 AND memid != 0\n",
    "ORDER BY member_name\n",
    "</code>               "
   ]
  },
  {
   "cell_type": "markdown",
   "metadata": {},
   "source": [
    "#### Q8: Produce a list of bookings on the day of 2012-09-14 which will cost the member (or guest) more than \\$30. Remember that guests have different costs to members (the listed costs are per half-hour 'slot'), and the guest user's ID is always 0. Include in your output the name of the facility, the name of the member formatted as a single column, and the cost. Order by descending cost, and do not use any subqueries. \n",
    "\n",
    "<code>SELECT fac.name, CONCAT(mem.firstname, ' ', mem.surname) AS member_name,\n",
    "\tCASE WHEN memid = 0 THEN fac.guestcost * slots\n",
    "\tELSE fac.membercost * slots END AS cost\n",
    "FROM `Bookings`\n",
    "INNER JOIN `Facilities` AS fac USING (facid)\n",
    "INNER JOIN `Members` AS mem USING (memid)\n",
    "WHERE CAST(starttime AS DATE) = '2012-09-14' AND 30 < (\n",
    "      CASE WHEN memid = 0 THEN fac.guestcost * slots\n",
    "           ELSE fac.membercost * slots END)\n",
    "ORDER BY cost DESC\n",
    "</code>"
   ]
  },
  {
   "cell_type": "markdown",
   "metadata": {},
   "source": [
    "#### Q9: This time, produce the same result as in Q8, but using a subquery. \n",
    "\n",
    "\n",
    "<code>SELECT name, member_name, cost\n",
    "FROM (SELECT fac.name as name, \n",
    "      CONCAT(mem.firstname, ' ', mem.surname) AS member_name,\n",
    "      CASE WHEN memid = 0 THEN fac.guestcost * slots\n",
    "\t\tELSE fac.membercost * slots END AS cost\n",
    "\t  FROM `Bookings`\n",
    "\t  INNER JOIN `Facilities` AS fac USING (facid)\n",
    "      INNER JOIN `Members` AS mem USING (memid)\n",
    "      WHERE CAST(starttime AS DATE) = '2012-09-14') AS subquery\n",
    "WHERE cost > 30\n",
    "ORDER BY cost DESC\n",
    "</code>"
   ]
  }
 ],
 "metadata": {
  "kernelspec": {
   "display_name": "Python 3",
   "language": "python",
   "name": "python3"
  },
  "language_info": {
   "codemirror_mode": {
    "name": "ipython",
    "version": 3
   },
   "file_extension": ".py",
   "mimetype": "text/x-python",
   "name": "python",
   "nbconvert_exporter": "python",
   "pygments_lexer": "ipython3",
   "version": "3.7.6"
  }
 },
 "nbformat": 4,
 "nbformat_minor": 4
}
